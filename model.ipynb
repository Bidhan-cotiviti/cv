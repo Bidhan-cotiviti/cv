{
 "cells": [
  {
   "cell_type": "code",
   "execution_count": 20,
   "metadata": {},
   "outputs": [],
   "source": [
    "# %pip install spacy-transformers\n",
    "# %pip install -U spacy"
   ]
  },
  {
   "cell_type": "code",
   "execution_count": 21,
   "metadata": {},
   "outputs": [],
   "source": [
    "# %pip install -U scikit-learn"
   ]
  },
  {
   "cell_type": "code",
   "execution_count": 22,
   "metadata": {},
   "outputs": [],
   "source": [
    "import spacy\n",
    "from spacy.tokens import DocBin\n",
    "from tqdm import tqdm\n",
    "import json\n",
    "import sklearn"
   ]
  },
  {
   "cell_type": "code",
   "execution_count": 23,
   "metadata": {},
   "outputs": [
    {
     "data": {
      "text/plain": [
       "'3.6.1'"
      ]
     },
     "execution_count": 23,
     "metadata": {},
     "output_type": "execute_result"
    }
   ],
   "source": [
    "spacy.__version__"
   ]
  },
  {
   "cell_type": "code",
   "execution_count": 24,
   "metadata": {},
   "outputs": [],
   "source": [
    "with open(r\"C:\\Users\\bidhan.khatiwada\\OneDrive - Cotiviti\\Desktop\\collab_test\\cv_parsing\\data\\training\\annotations.json\", \"r\", encoding=\"utf-8\") as file:\n",
    "    cv_data = json.load(file)"
   ]
  },
  {
   "cell_type": "code",
   "execution_count": 25,
   "metadata": {},
   "outputs": [
    {
     "data": {
      "text/plain": [
       "10"
      ]
     },
     "execution_count": 25,
     "metadata": {},
     "output_type": "execute_result"
    }
   ],
   "source": [
    "len(cv_data)"
   ]
  },
  {
   "cell_type": "code",
   "execution_count": 26,
   "metadata": {},
   "outputs": [],
   "source": [
    "# !python -m spacy init fill-config \"C:\\Users\\bidhan.khatiwada\\OneDrive - Cotiviti\\Desktop\\collab_test\\cv_parsing\\data\\training\\base_config.cfg\" \"C:\\Users\\bidhan.khatiwada\\OneDrive - Cotiviti\\Desktop\\collab_test\\cv_parsing\\data\\training\\config.cfg\""
   ]
  },
  {
   "cell_type": "code",
   "execution_count": 27,
   "metadata": {},
   "outputs": [],
   "source": [
    "import spacy\n",
    "from spacy.tokens import DocBin\n",
    "\n",
    "def get_spacy_doc(data):\n",
    "    nlp = spacy.blank(\"en\")\n",
    "\n",
    "    db = DocBin()\n",
    "\n",
    "    for text, annotations in tqdm(cv_data):\n",
    "        doc = nlp(text)\n",
    "        annotations = annotations['entities']\n",
    "        print(annotations)\n",
    "        \n",
    "        ents = []\n",
    "        for start, end, label in annotations:\n",
    "            span = doc.char_span(start, end, label=label, alignment_mode='contract')\n",
    "            ents.append(span)\n",
    "        doc.ents = ents\n",
    "        db.add(doc)\n",
    "        \n",
    "    return db\n"
   ]
  },
  {
   "cell_type": "code",
   "execution_count": 28,
   "metadata": {},
   "outputs": [],
   "source": [
    "from sklearn.model_selection import train_test_split\n",
    "train,test = train_test_split(cv_data, test_size=0.2)"
   ]
  },
  {
   "cell_type": "code",
   "execution_count": 33,
   "metadata": {},
   "outputs": [
    {
     "data": {
      "text/plain": [
       "(8, 2)"
      ]
     },
     "execution_count": 33,
     "metadata": {},
     "output_type": "execute_result"
    }
   ],
   "source": [
    "len(train), len(test)"
   ]
  },
  {
   "cell_type": "code",
   "execution_count": 34,
   "metadata": {},
   "outputs": [
    {
     "name": "stderr",
     "output_type": "stream",
     "text": [
      "100%|██████████| 10/10 [00:00<00:00, 112.18it/s]\n"
     ]
    },
    {
     "name": "stdout",
     "output_type": "stream",
     "text": [
      "[[0, 24, 'NAME'], [26, 32, 'LOCATION'], [33, 43, 'PHONE NUMBER'], [100, 122, 'EMAIL ADDRESS'], [134, 171, 'DESIGNATION'], [172, 232, 'COMPANIES WORKED AT'], [478, 557, 'COMPANIES WORKED AT'], [764, 857, 'COMPANIES WORKED AT'], [1520, 1822, 'SKILL'], [1973, 1985, 'DEGREE'], [1987, 2019, 'COLLEGE NAME'], [2038, 2042, 'GRADUATION YEAR']]\n",
      "[[0, 13, 'NAME'], [14, 27, 'LOCATION'], [30, 44, 'PHONE NUMBER'], [47, 71, 'EMAIL ADDRESS'], [514, 688, 'SKILL'], [713, 778, 'COMPANIES WORKED AT'], [964, 1041, 'COMPANIES WORKED AT'], [1111, 1201, 'COMPANIES WORKED AT'], [1345, 1383, 'COMPANIES WORKED AT'], [1545, 1589, 'COMPANIES WORKED AT'], [1830, 1850, 'COLLEGE NAME'], [1866, 1898, 'DEGREE'], [1900, 1907, 'GRADUATION YEAR']]\n",
      "[[2, 17, 'NAME'], [19, 28, 'LOCATION'], [37, 47, 'PHONE NUMBER'], [49, 59, 'PHONE NUMBER'], [61, 79, 'EMAIL ADDRESS'], [241, 304, 'COMPANIES WORKED AT'], [1213, 1279, 'COMPANIES WORKED AT'], [1394, 1470, 'COMPANIES WORKED AT'], [1619, 1623, 'GRADUATION YEAR'], [1625, 1705, 'DEGREE'], [1707, 1723, 'COLLEGE NAME'], [2242, 2709, 'SKILL']]\n",
      "[[0, 10, 'PHONE NUMBER'], [11, 34, 'EMAIL ADDRESS'], [35, 44, 'LOCATION'], [1154, 1169, 'DESIGNATION'], [1170, 1193, 'COMPANIES WORKED AT'], [2204, 2229, 'DESIGNATION'], [3275, 3301, 'DEGREE'], [3303, 3322, 'COLLEGE NAME'], [3359, 3368, 'GRADUATION YEAR']]\n",
      "[[30, 42, 'NAME'], [43, 51, 'LOCATION'], [59, 74, 'PHONE NUMBER'], [78, 98, 'EMAIL ADDRESS'], [411, 437, 'COLLEGE NAME'], [449, 481, 'DEGREE'], [630, 710, 'SKILL']]\n",
      "[[0, 12, 'NAME'], [236, 242, 'LOCATION'], [253, 263, 'PHONE NUMBER'], [264, 289, 'EMAIL ADDRESS'], [301, 379, 'COMPANIES WORKED AT'], [657, 729, 'COMPANIES WORKED AT'], [898, 912, 'COLLEGE NAME'], [936, 944, 'DEGREE'], [960, 964, 'GRADUATION YEAR'], [1040, 1247, 'SKILL']]\n",
      "[[0, 12, 'NAME'], [33, 54, 'NAME'], [56, 65, 'LOCATION'], [89, 110, 'EMAIL ADDRESS'], [117, 132, 'PHONE NUMBER'], [419, 477, 'COMPANIES WORKED AT'], [494, 543, 'COMPANIES WORKED AT'], [560, 612, 'COMPANIES WORKED AT'], [640, 657, 'COLLEGE NAME'], [669, 689, 'DEGREE'], [709, 713, 'GRADUATION YEAR'], [1097, 1230, 'SKILL']]\n",
      "[[6, 26, 'NAME'], [27, 44, 'DESIGNATION'], [255, 321, 'COMPANIES WORKED AT'], [988, 1043, 'COMPANIES WORKED AT'], [1498, 1507, 'LOCATION'], [1530, 1540, 'PHONE NUMBER'], [1548, 1567, 'EMAIL ADDRESS'], [1675, 1844, 'SKILL'], [1953, 2010, 'COMPANIES WORKED AT'], [2450, 2501, 'COMPANIES WORKED AT'], [3031, 3083, 'COMPANIES WORKED AT'], [3612, 3619, 'GRADUATION YEAR'], [3620, 3681, 'DEGREE'], [3682, 3738, 'COLLEGE NAME']]\n",
      "[[52, 65, 'NAME'], [241, 308, 'DEGREE'], [309, 335, 'COLLEGE NAME'], [548, 561, 'NAME'], [673, 683, 'PHONE NUMBER'], [684, 706, 'EMAIL ADDRESS']]\n",
      "[[280, 311, 'COLLEGE NAME'], [312, 318, 'DEGREE'], [338, 342, 'GRADUATION YEAR'], [839, 855, 'COMPANIES WORKED AT'], [1014, 1023, 'COMPANIES WORKED AT'], [1316, 1475, 'SKILL'], [1683, 1695, 'NAME'], [1696, 1713, 'DESIGNATION'], [1772, 1782, 'PHONE NUMBER'], [1810, 1835, 'EMAIL ADDRESS']]\n"
     ]
    },
    {
     "name": "stderr",
     "output_type": "stream",
     "text": [
      "100%|██████████| 10/10 [00:00<00:00, 121.44it/s]"
     ]
    },
    {
     "name": "stdout",
     "output_type": "stream",
     "text": [
      "[[0, 24, 'NAME'], [26, 32, 'LOCATION'], [33, 43, 'PHONE NUMBER'], [100, 122, 'EMAIL ADDRESS'], [134, 171, 'DESIGNATION'], [172, 232, 'COMPANIES WORKED AT'], [478, 557, 'COMPANIES WORKED AT'], [764, 857, 'COMPANIES WORKED AT'], [1520, 1822, 'SKILL'], [1973, 1985, 'DEGREE'], [1987, 2019, 'COLLEGE NAME'], [2038, 2042, 'GRADUATION YEAR']]\n",
      "[[0, 13, 'NAME'], [14, 27, 'LOCATION'], [30, 44, 'PHONE NUMBER'], [47, 71, 'EMAIL ADDRESS'], [514, 688, 'SKILL'], [713, 778, 'COMPANIES WORKED AT'], [964, 1041, 'COMPANIES WORKED AT'], [1111, 1201, 'COMPANIES WORKED AT'], [1345, 1383, 'COMPANIES WORKED AT'], [1545, 1589, 'COMPANIES WORKED AT'], [1830, 1850, 'COLLEGE NAME'], [1866, 1898, 'DEGREE'], [1900, 1907, 'GRADUATION YEAR']]\n",
      "[[2, 17, 'NAME'], [19, 28, 'LOCATION'], [37, 47, 'PHONE NUMBER'], [49, 59, 'PHONE NUMBER'], [61, 79, 'EMAIL ADDRESS'], [241, 304, 'COMPANIES WORKED AT'], [1213, 1279, 'COMPANIES WORKED AT'], [1394, 1470, 'COMPANIES WORKED AT'], [1619, 1623, 'GRADUATION YEAR'], [1625, 1705, 'DEGREE'], [1707, 1723, 'COLLEGE NAME'], [2242, 2709, 'SKILL']]\n",
      "[[0, 10, 'PHONE NUMBER'], [11, 34, 'EMAIL ADDRESS'], [35, 44, 'LOCATION'], [1154, 1169, 'DESIGNATION'], [1170, 1193, 'COMPANIES WORKED AT'], [2204, 2229, 'DESIGNATION'], [3275, 3301, 'DEGREE'], [3303, 3322, 'COLLEGE NAME'], [3359, 3368, 'GRADUATION YEAR']]\n",
      "[[30, 42, 'NAME'], [43, 51, 'LOCATION'], [59, 74, 'PHONE NUMBER'], [78, 98, 'EMAIL ADDRESS'], [411, 437, 'COLLEGE NAME'], [449, 481, 'DEGREE'], [630, 710, 'SKILL']]\n",
      "[[0, 12, 'NAME'], [236, 242, 'LOCATION'], [253, 263, 'PHONE NUMBER'], [264, 289, 'EMAIL ADDRESS'], [301, 379, 'COMPANIES WORKED AT'], [657, 729, 'COMPANIES WORKED AT'], [898, 912, 'COLLEGE NAME'], [936, 944, 'DEGREE'], [960, 964, 'GRADUATION YEAR'], [1040, 1247, 'SKILL']]\n",
      "[[0, 12, 'NAME'], [33, 54, 'NAME'], [56, 65, 'LOCATION'], [89, 110, 'EMAIL ADDRESS'], [117, 132, 'PHONE NUMBER'], [419, 477, 'COMPANIES WORKED AT'], [494, 543, 'COMPANIES WORKED AT'], [560, 612, 'COMPANIES WORKED AT'], [640, 657, 'COLLEGE NAME'], [669, 689, 'DEGREE'], [709, 713, 'GRADUATION YEAR'], [1097, 1230, 'SKILL']]\n",
      "[[6, 26, 'NAME'], [27, 44, 'DESIGNATION'], [255, 321, 'COMPANIES WORKED AT'], [988, 1043, 'COMPANIES WORKED AT'], [1498, 1507, 'LOCATION'], [1530, 1540, 'PHONE NUMBER'], [1548, 1567, 'EMAIL ADDRESS'], [1675, 1844, 'SKILL'], [1953, 2010, 'COMPANIES WORKED AT'], [2450, 2501, 'COMPANIES WORKED AT'], [3031, 3083, 'COMPANIES WORKED AT'], [3612, 3619, 'GRADUATION YEAR'], [3620, 3681, 'DEGREE'], [3682, 3738, 'COLLEGE NAME']]\n",
      "[[52, 65, 'NAME'], [241, 308, 'DEGREE'], [309, 335, 'COLLEGE NAME'], [548, 561, 'NAME'], [673, 683, 'PHONE NUMBER'], [684, 706, 'EMAIL ADDRESS']]\n",
      "[[280, 311, 'COLLEGE NAME'], [312, 318, 'DEGREE'], [338, 342, 'GRADUATION YEAR'], [839, 855, 'COMPANIES WORKED AT'], [1014, 1023, 'COMPANIES WORKED AT'], [1316, 1475, 'SKILL'], [1683, 1695, 'NAME'], [1696, 1713, 'DESIGNATION'], [1772, 1782, 'PHONE NUMBER'], [1810, 1835, 'EMAIL ADDRESS']]\n"
     ]
    },
    {
     "name": "stderr",
     "output_type": "stream",
     "text": [
      "\n"
     ]
    }
   ],
   "source": [
    "db = get_spacy_doc(train)\n",
    "db.to_disk('train_data.spacy')\n",
    "\n",
    "db = get_spacy_doc(test)\n",
    "db.to_disk('test_data.spacy')"
   ]
  },
  {
   "cell_type": "code",
   "execution_count": 35,
   "metadata": {},
   "outputs": [
    {
     "data": {
      "text/plain": [
       "10"
      ]
     },
     "execution_count": 35,
     "metadata": {},
     "output_type": "execute_result"
    }
   ],
   "source": [
    "len(db.tokens)"
   ]
  },
  {
   "cell_type": "code",
   "execution_count": 40,
   "metadata": {},
   "outputs": [
    {
     "name": "stdout",
     "output_type": "stream",
     "text": [
      "\u001b[38;5;4mℹ Saving to output directory: output\u001b[0m\n",
      "\u001b[38;5;4mℹ Using CPU\u001b[0m\n",
      "\u001b[1m\n",
      "=========================== Initializing pipeline ===========================\u001b[0m\n"
     ]
    },
    {
     "name": "stderr",
     "output_type": "stream",
     "text": [
      "Traceback (most recent call last):\n",
      "  File \"c:\\Users\\bidhan.khatiwada\\OneDrive - Cotiviti\\Desktop\\collab_test\\venv\\lib\\site-packages\\urllib3\\connectionpool.py\", line 467, in _make_request\n",
      "    self._validate_conn(conn)\n",
      "  File \"c:\\Users\\bidhan.khatiwada\\OneDrive - Cotiviti\\Desktop\\collab_test\\venv\\lib\\site-packages\\urllib3\\connectionpool.py\", line 1092, in _validate_conn\n",
      "    conn.connect()\n",
      "  File \"c:\\Users\\bidhan.khatiwada\\OneDrive - Cotiviti\\Desktop\\collab_test\\venv\\lib\\site-packages\\urllib3\\connection.py\", line 642, in connect\n",
      "    sock_and_verified = _ssl_wrap_socket_and_match_hostname(\n",
      "  File \"c:\\Users\\bidhan.khatiwada\\OneDrive - Cotiviti\\Desktop\\collab_test\\venv\\lib\\site-packages\\urllib3\\connection.py\", line 783, in _ssl_wrap_socket_and_match_hostname\n",
      "    ssl_sock = ssl_wrap_socket(\n",
      "  File \"c:\\Users\\bidhan.khatiwada\\OneDrive - Cotiviti\\Desktop\\collab_test\\venv\\lib\\site-packages\\urllib3\\util\\ssl_.py\", line 469, in ssl_wrap_socket\n",
      "    ssl_sock = _ssl_wrap_socket_impl(sock, context, tls_in_tls, server_hostname)\n",
      "  File \"c:\\Users\\bidhan.khatiwada\\OneDrive - Cotiviti\\Desktop\\collab_test\\venv\\lib\\site-packages\\urllib3\\util\\ssl_.py\", line 513, in _ssl_wrap_socket_impl\n",
      "    return ssl_context.wrap_socket(sock, server_hostname=server_hostname)\n",
      "  File \"C:\\Program Files\\Python39\\lib\\ssl.py\", line 500, in wrap_socket\n",
      "    return self.sslsocket_class._create(\n",
      "  File \"C:\\Program Files\\Python39\\lib\\ssl.py\", line 1040, in _create\n",
      "    self.do_handshake()\n",
      "  File \"C:\\Program Files\\Python39\\lib\\ssl.py\", line 1309, in do_handshake\n",
      "    self._sslobj.do_handshake()\n",
      "ssl.SSLCertVerificationError: [SSL: CERTIFICATE_VERIFY_FAILED] certificate verify failed: unable to get local issuer certificate (_ssl.c:1129)\n",
      "\n",
      "During handling of the above exception, another exception occurred:\n",
      "\n",
      "Traceback (most recent call last):\n",
      "  File \"c:\\Users\\bidhan.khatiwada\\OneDrive - Cotiviti\\Desktop\\collab_test\\venv\\lib\\site-packages\\urllib3\\connectionpool.py\", line 790, in urlopen\n",
      "    response = self._make_request(\n",
      "  File \"c:\\Users\\bidhan.khatiwada\\OneDrive - Cotiviti\\Desktop\\collab_test\\venv\\lib\\site-packages\\urllib3\\connectionpool.py\", line 491, in _make_request\n",
      "    raise new_e\n",
      "urllib3.exceptions.SSLError: [SSL: CERTIFICATE_VERIFY_FAILED] certificate verify failed: unable to get local issuer certificate (_ssl.c:1129)\n",
      "\n",
      "The above exception was the direct cause of the following exception:\n",
      "\n",
      "Traceback (most recent call last):\n",
      "  File \"c:\\Users\\bidhan.khatiwada\\OneDrive - Cotiviti\\Desktop\\collab_test\\venv\\lib\\site-packages\\requests\\adapters.py\", line 486, in send\n",
      "    resp = conn.urlopen(\n",
      "  File \"c:\\Users\\bidhan.khatiwada\\OneDrive - Cotiviti\\Desktop\\collab_test\\venv\\lib\\site-packages\\urllib3\\connectionpool.py\", line 844, in urlopen\n",
      "    retries = retries.increment(\n",
      "  File \"c:\\Users\\bidhan.khatiwada\\OneDrive - Cotiviti\\Desktop\\collab_test\\venv\\lib\\site-packages\\urllib3\\util\\retry.py\", line 515, in increment\n",
      "    raise MaxRetryError(_pool, url, reason) from reason  # type: ignore[arg-type]\n",
      "urllib3.exceptions.MaxRetryError: HTTPSConnectionPool(host='huggingface.co', port=443): Max retries exceeded with url: /roberta-base/resolve/main/tokenizer_config.json (Caused by SSLError(SSLCertVerificationError(1, '[SSL: CERTIFICATE_VERIFY_FAILED] certificate verify failed: unable to get local issuer certificate (_ssl.c:1129)')))\n",
      "\n",
      "During handling of the above exception, another exception occurred:\n",
      "\n",
      "Traceback (most recent call last):\n",
      "  File \"C:\\Program Files\\Python39\\lib\\runpy.py\", line 197, in _run_module_as_main\n",
      "    return _run_code(code, main_globals, None,\n",
      "  File \"C:\\Program Files\\Python39\\lib\\runpy.py\", line 87, in _run_code\n",
      "    exec(code, run_globals)\n",
      "  File \"c:\\Users\\bidhan.khatiwada\\OneDrive - Cotiviti\\Desktop\\collab_test\\venv\\lib\\site-packages\\spacy\\__main__.py\", line 4, in <module>\n",
      "    setup_cli()\n",
      "  File \"c:\\Users\\bidhan.khatiwada\\OneDrive - Cotiviti\\Desktop\\collab_test\\venv\\lib\\site-packages\\spacy\\cli\\_util.py\", line 92, in setup_cli\n",
      "    command(prog_name=COMMAND)\n",
      "  File \"c:\\Users\\bidhan.khatiwada\\OneDrive - Cotiviti\\Desktop\\collab_test\\venv\\lib\\site-packages\\click\\core.py\", line 1157, in __call__\n",
      "    return self.main(*args, **kwargs)\n",
      "  File \"c:\\Users\\bidhan.khatiwada\\OneDrive - Cotiviti\\Desktop\\collab_test\\venv\\lib\\site-packages\\typer\\core.py\", line 778, in main\n",
      "    return _main(\n",
      "  File \"c:\\Users\\bidhan.khatiwada\\OneDrive - Cotiviti\\Desktop\\collab_test\\venv\\lib\\site-packages\\typer\\core.py\", line 216, in _main\n",
      "    rv = self.invoke(ctx)\n",
      "  File \"c:\\Users\\bidhan.khatiwada\\OneDrive - Cotiviti\\Desktop\\collab_test\\venv\\lib\\site-packages\\click\\core.py\", line 1688, in invoke\n",
      "    return _process_result(sub_ctx.command.invoke(sub_ctx))\n",
      "  File \"c:\\Users\\bidhan.khatiwada\\OneDrive - Cotiviti\\Desktop\\collab_test\\venv\\lib\\site-packages\\click\\core.py\", line 1434, in invoke\n",
      "    return ctx.invoke(self.callback, **ctx.params)\n",
      "  File \"c:\\Users\\bidhan.khatiwada\\OneDrive - Cotiviti\\Desktop\\collab_test\\venv\\lib\\site-packages\\click\\core.py\", line 783, in invoke\n",
      "    return __callback(*args, **kwargs)\n",
      "  File \"c:\\Users\\bidhan.khatiwada\\OneDrive - Cotiviti\\Desktop\\collab_test\\venv\\lib\\site-packages\\typer\\main.py\", line 683, in wrapper\n",
      "    return callback(**use_params)  # type: ignore\n",
      "  File \"c:\\Users\\bidhan.khatiwada\\OneDrive - Cotiviti\\Desktop\\collab_test\\venv\\lib\\site-packages\\spacy\\cli\\train.py\", line 54, in train_cli\n",
      "    train(config_path, output_path, use_gpu=use_gpu, overrides=overrides)\n",
      "  File \"c:\\Users\\bidhan.khatiwada\\OneDrive - Cotiviti\\Desktop\\collab_test\\venv\\lib\\site-packages\\spacy\\cli\\train.py\", line 81, in train\n",
      "    nlp = init_nlp(config, use_gpu=use_gpu)\n",
      "  File \"c:\\Users\\bidhan.khatiwada\\OneDrive - Cotiviti\\Desktop\\collab_test\\venv\\lib\\site-packages\\spacy\\training\\initialize.py\", line 95, in init_nlp\n",
      "    nlp.initialize(lambda: train_corpus(nlp), sgd=optimizer)\n",
      "  File \"c:\\Users\\bidhan.khatiwada\\OneDrive - Cotiviti\\Desktop\\collab_test\\venv\\lib\\site-packages\\spacy\\language.py\", line 1342, in initialize\n",
      "    proc.initialize(get_examples, nlp=self, **p_settings)\n",
      "  File \"c:\\Users\\bidhan.khatiwada\\OneDrive - Cotiviti\\Desktop\\collab_test\\venv\\lib\\site-packages\\spacy_transformers\\pipeline_component.py\", line 351, in initialize\n",
      "    self.model.initialize(X=docs)\n",
      "  File \"c:\\Users\\bidhan.khatiwada\\OneDrive - Cotiviti\\Desktop\\collab_test\\venv\\lib\\site-packages\\thinc\\model.py\", line 318, in initialize\n",
      "    self.init(self, X=X, Y=Y)\n",
      "  File \"c:\\Users\\bidhan.khatiwada\\OneDrive - Cotiviti\\Desktop\\collab_test\\venv\\lib\\site-packages\\spacy_transformers\\layers\\transformer_model.py\", line 131, in init\n",
      "    hf_model = huggingface_from_pretrained(name, tok_cfg, trf_cfg)\n",
      "  File \"c:\\Users\\bidhan.khatiwada\\OneDrive - Cotiviti\\Desktop\\collab_test\\venv\\lib\\site-packages\\spacy_transformers\\layers\\transformer_model.py\", line 267, in huggingface_from_pretrained\n",
      "    tokenizer = tokenizer_cls.from_pretrained(str_path, **tok_config)\n",
      "  File \"c:\\Users\\bidhan.khatiwada\\OneDrive - Cotiviti\\Desktop\\collab_test\\venv\\lib\\site-packages\\transformers\\models\\auto\\tokenization_auto.py\", line 686, in from_pretrained\n",
      "    tokenizer_config = get_tokenizer_config(pretrained_model_name_or_path, **kwargs)\n",
      "  File \"c:\\Users\\bidhan.khatiwada\\OneDrive - Cotiviti\\Desktop\\collab_test\\venv\\lib\\site-packages\\transformers\\models\\auto\\tokenization_auto.py\", line 519, in get_tokenizer_config\n",
      "    resolved_config_file = cached_file(\n",
      "  File \"c:\\Users\\bidhan.khatiwada\\OneDrive - Cotiviti\\Desktop\\collab_test\\venv\\lib\\site-packages\\transformers\\utils\\hub.py\", line 429, in cached_file\n",
      "    resolved_file = hf_hub_download(\n",
      "  File \"c:\\Users\\bidhan.khatiwada\\OneDrive - Cotiviti\\Desktop\\collab_test\\venv\\lib\\site-packages\\huggingface_hub\\utils\\_validators.py\", line 118, in _inner_fn\n",
      "    return fn(*args, **kwargs)\n",
      "  File \"c:\\Users\\bidhan.khatiwada\\OneDrive - Cotiviti\\Desktop\\collab_test\\venv\\lib\\site-packages\\huggingface_hub\\file_download.py\", line 1232, in hf_hub_download\n",
      "    metadata = get_hf_file_metadata(\n",
      "  File \"c:\\Users\\bidhan.khatiwada\\OneDrive - Cotiviti\\Desktop\\collab_test\\venv\\lib\\site-packages\\huggingface_hub\\utils\\_validators.py\", line 118, in _inner_fn\n",
      "    return fn(*args, **kwargs)\n",
      "  File \"c:\\Users\\bidhan.khatiwada\\OneDrive - Cotiviti\\Desktop\\collab_test\\venv\\lib\\site-packages\\huggingface_hub\\file_download.py\", line 1599, in get_hf_file_metadata\n",
      "    r = _request_wrapper(\n",
      "  File \"c:\\Users\\bidhan.khatiwada\\OneDrive - Cotiviti\\Desktop\\collab_test\\venv\\lib\\site-packages\\huggingface_hub\\file_download.py\", line 417, in _request_wrapper\n",
      "    response = _request_wrapper(\n",
      "  File \"c:\\Users\\bidhan.khatiwada\\OneDrive - Cotiviti\\Desktop\\collab_test\\venv\\lib\\site-packages\\huggingface_hub\\file_download.py\", line 452, in _request_wrapper\n",
      "    return http_backoff(\n",
      "  File \"c:\\Users\\bidhan.khatiwada\\OneDrive - Cotiviti\\Desktop\\collab_test\\venv\\lib\\site-packages\\huggingface_hub\\utils\\_http.py\", line 258, in http_backoff\n",
      "    response = session.request(method=method, url=url, **kwargs)\n",
      "  File \"c:\\Users\\bidhan.khatiwada\\OneDrive - Cotiviti\\Desktop\\collab_test\\venv\\lib\\site-packages\\requests\\sessions.py\", line 589, in request\n",
      "    resp = self.send(prep, **send_kwargs)\n",
      "  File \"c:\\Users\\bidhan.khatiwada\\OneDrive - Cotiviti\\Desktop\\collab_test\\venv\\lib\\site-packages\\requests\\sessions.py\", line 703, in send\n",
      "    r = adapter.send(request, **kwargs)\n",
      "  File \"c:\\Users\\bidhan.khatiwada\\OneDrive - Cotiviti\\Desktop\\collab_test\\venv\\lib\\site-packages\\huggingface_hub\\utils\\_http.py\", line 63, in send\n",
      "    return super().send(request, *args, **kwargs)\n",
      "  File \"c:\\Users\\bidhan.khatiwada\\OneDrive - Cotiviti\\Desktop\\collab_test\\venv\\lib\\site-packages\\requests\\adapters.py\", line 517, in send\n",
      "    raise SSLError(e, request=request)\n",
      "requests.exceptions.SSLError: (MaxRetryError(\"HTTPSConnectionPool(host='huggingface.co', port=443): Max retries exceeded with url: /roberta-base/resolve/main/tokenizer_config.json (Caused by SSLError(SSLCertVerificationError(1, '[SSL: CERTIFICATE_VERIFY_FAILED] certificate verify failed: unable to get local issuer certificate (_ssl.c:1129)')))\"), '(Request ID: ef81a315-7182-4523-bf7e-73b8e6358028)')\n"
     ]
    }
   ],
   "source": [
    "!python -m spacy train \"C:\\Users\\bidhan.khatiwada\\OneDrive - Cotiviti\\Desktop\\collab_test\\cv_parsing\\data\\training\\config.cfg\" --output ./output --paths.train \"C:\\Users\\bidhan.khatiwada\\OneDrive - Cotiviti\\Desktop\\collab_test\\cv_parsing\\train_data.spacy\" --paths.dev \"C:\\Users\\bidhan.khatiwada\\OneDrive - Cotiviti\\Desktop\\collab_test\\cv_parsing\\test_data.spacy\""
   ]
  }
 ],
 "metadata": {
  "kernelspec": {
   "display_name": "venv",
   "language": "python",
   "name": "python3"
  },
  "language_info": {
   "codemirror_mode": {
    "name": "ipython",
    "version": 3
   },
   "file_extension": ".py",
   "mimetype": "text/x-python",
   "name": "python",
   "nbconvert_exporter": "python",
   "pygments_lexer": "ipython3",
   "version": "3.9.5"
  },
  "orig_nbformat": 4
 },
 "nbformat": 4,
 "nbformat_minor": 2
}
